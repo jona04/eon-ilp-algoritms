{
 "cells": [
  {
   "cell_type": "code",
   "execution_count": 467,
   "metadata": {},
   "outputs": [],
   "source": [
    "from pulp import *\n",
    "import math\n",
    "\n"
   ]
  },
  {
   "cell_type": "code",
   "execution_count": 477,
   "metadata": {},
   "outputs": [],
   "source": [
    "NODES = ['N1','N2','N3','N4']\n",
    "\n",
    "LINKS = [('N1','N2'), ('N1','N4'), ('N2','N3'), ('N3','N4'), ('N2','N1'), ('N3','N2'), ('N4','N1'), ('N4','N3')\n",
    "        ]\n",
    "#spectro\n",
    "F = [ 1, 2, 3, 4, 5, 6, 7, 8 ]\n",
    "\n",
    "#core per link\n",
    "C = {('N1','N2') : [1,2,3], \n",
    "     ('N1','N4') : [1,2,3], \n",
    "     ('N2','N3') : [1,2,3], \n",
    "     ('N3','N4') : [1,2,3], \n",
    "     ('N2','N1') : [1,2,3], \n",
    "     ('N3','N2') : [1,2,3], \n",
    "     ('N4','N1') : [1,2,3], \n",
    "     ('N4','N3') : [1,2,3]\n",
    "    }\n",
    "\n",
    "demands = { 1: ('N1','N2'),\n",
    "            2: ('N1','N3'),\n",
    "            3: ('N1','N4'),\n",
    "            4: ('N2','N4'),\n",
    "          }\n",
    "\n",
    "omega = { 1: 2,\n",
    "          2: 4,\n",
    "          3: 2,\n",
    "          4: 4\n",
    "        }\n",
    "\n",
    "#paths per demand\n",
    "pi = { 1: [ frozenset({('N1','N2')}) ],\n",
    "       2: [ frozenset({('N1','N2'), ('N2','N3')}),\n",
    "            frozenset({('N1','N4'), ('N4','N3')})\n",
    "          ],\n",
    "       3: [ frozenset({('N1','N4')}) ],\n",
    "       4: [ frozenset({('N2','N1'), ('N1','N4')}),\n",
    "            frozenset({('N2','N3'), ('N3','N4')})\n",
    "          ] \n",
    "     }\n",
    "    \n",
    "\n",
    "#links per path\n",
    "H = {   frozenset({('N1','N2')}) : [ ('N1','N2') ],\n",
    "        frozenset({('N1','N2'), ('N2','N3')}) : [ ('N1','N2'), ('N2','N3') ],\n",
    "        frozenset({('N1','N4'), ('N4','N3')}) : [ ('N1','N4'), ('N4','N3') ],\n",
    "        frozenset({('N1','N4')}) : [ ('N1','N4') ],\n",
    "        frozenset({('N2','N1'), ('N1','N4')}) : [ ('N2','N1'), ('N1','N4') ],\n",
    "        frozenset({('N2','N3'), ('N3','N4')}) : [ ('N2','N3'), ('N3','N4') ],\n",
    "    }\n",
    "\n",
    "#core per path\n",
    "gamma =  { frozenset({('N1','N2')}) : [ 3 ],\n",
    "       frozenset({('N1','N2'), ('N2','N3')}) : [ 3, 3 ],\n",
    "       frozenset({('N1','N4'), ('N4','N3')}) : [ 3, 3 ],\n",
    "       frozenset({('N1','N4')}) : [ 3 ],\n",
    "       frozenset({('N2','N1'), ('N1','N4')}) : [ 3, 3 ],\n",
    "       frozenset({('N2','N3'), ('N3','N4')}) : [ 3, 3 ],\n",
    "     }\n",
    "\n",
    "#crosstalk threeshold\n",
    "E = -30\n",
    "\n",
    "\n",
    "M = sum([omega[i] for i in omega])\n",
    "\n",
    "\n"
   ]
  },
  {
   "cell_type": "code",
   "execution_count": 478,
   "metadata": {},
   "outputs": [],
   "source": [
    "k = 3.16e-5\n",
    "B = 10e7\n",
    "R = 0.01\n",
    "A = 4.5e-5\n",
    "L = 390000000000000"
   ]
  },
  {
   "cell_type": "code",
   "execution_count": 479,
   "metadata": {},
   "outputs": [],
   "source": [
    "numerador = 2 - 2 * math.exp( -3 * 2 * ( pow(k,2) / B ) * (R/A) * L )\n",
    "denominador = 1 + 2 * math.exp( -3 * 2 * ( pow(k,2) / B ) * (R/A) * L )"
   ]
  },
  {
   "cell_type": "code",
   "execution_count": 480,
   "metadata": {},
   "outputs": [
    {
     "data": {
      "text/plain": [
       "1.9670184596217402"
      ]
     },
     "execution_count": 480,
     "metadata": {},
     "output_type": "execute_result"
    }
   ],
   "source": [
    "Xtl = numerador / denominador\n",
    "Xtl\n"
   ]
  },
  {
   "cell_type": "code",
   "execution_count": 481,
   "metadata": {},
   "outputs": [],
   "source": [
    "\n",
    "\n",
    "\n",
    "\n",
    "#problem variables\n",
    "prob = LpProblem(\"Problem\", LpMinimize)\n",
    "\n",
    "X_pi_vars = {}\n",
    "for path in pi:\n",
    "    X_pi_vars.update(LpVariable.dicts('t',[(p,i) for i,p in enumerate(pi[path])], 0, 1, LpBinary))\n",
    "    \n",
    "Fd_vars = LpVariable.dicts(\"Fd\", [(d) for d in demands], 0, None, LpInteger)\n",
    "\n",
    "Xd_c_uv_vars = {}\n",
    "for d in demands:\n",
    "    Xd_c_uv_vars.update(LpVariable.dicts(\"Xdc_uv\", [(d,core,l) for core in range(1,4) for l in LINKS], 0, 1, LpBinary))\n",
    "\n",
    "\n",
    "INVERTED_OMEGA_dD_c_uv_vars = {}\n",
    "for d in demands:\n",
    "    INVERTED_OMEGA_dD_c_uv_vars.update(LpVariable.dicts(\"INVERTED_OMEGA_dD_c_uv\", [(d,core,l) for core in range(1,4) for l in LINKS], 0, None, LpInteger))\n",
    "\n",
    "\n",
    "Ms_vars = LpVariable.dicts(\"Ms\", [(d,c) for d in demands for c in range(1,4)], 0, None, LpInteger)\n",
    "\n",
    "\n",
    "\n",
    "\n",
    "\n"
   ]
  },
  {
   "cell_type": "code",
   "execution_count": 482,
   "metadata": {},
   "outputs": [],
   "source": [
    "\n",
    "#contraint 1\n",
    "prob += lpSum(Ms_vars)\n",
    "\n",
    "\n",
    "#contraint 2\n",
    "for d in demands:\n",
    "    for c in range(1,4):\n",
    "        prob += Fd_vars[d] + omega[d] <= Ms_vars[d,c]\n",
    "        \n",
    "        \n",
    "        \n",
    "#contraint 3\n",
    "for p in pi:\n",
    "    prob += lpSum([X_pi_vars[p,i] for i,p in enumerate(pi[p])]) == 1\n",
    "        \n",
    "\n",
    "#contraint 4\n",
    "\n",
    "\n",
    "\n",
    "#contraint 5\n",
    "for d in demands:\n",
    "    for p in pi: \n",
    "        if (p == d):\n",
    "            for i,pp in enumerate(pi[p]):\n",
    "                for g in gamma:\n",
    "                    if(g == pp):\n",
    "                        prob += lpSum([Xd_c_uv_vars[d,c,link] for c in range(1,4) for ii,link in enumerate(pp)]) - lpSum([gamma[pp][ii] * X_pi_vars[pp,i] for ii,link in enumerate(pp)]) == 0       \n",
    "                \n",
    "\n",
    "\n",
    "\n",
    "#contraint 6\n",
    "\n",
    "\n",
    "\n",
    "\n",
    "#contraint 7\n",
    "\n",
    "\n",
    "#contraint 8\n",
    "\n",
    "\n",
    "#contraint 9\n",
    "\n",
    "\n",
    "\n",
    "\n"
   ]
  },
  {
   "cell_type": "code",
   "execution_count": 483,
   "metadata": {},
   "outputs": [
    {
     "data": {
      "text/plain": [
       "1"
      ]
     },
     "execution_count": 483,
     "metadata": {},
     "output_type": "execute_result"
    }
   ],
   "source": [
    "prob.solve()"
   ]
  },
  {
   "cell_type": "code",
   "execution_count": 484,
   "metadata": {},
   "outputs": [
    {
     "name": "stdout",
     "output_type": "stream",
     "text": [
      "\n",
      "Minimum Profit:\n"
     ]
    },
    {
     "data": {
      "text/plain": [
       "36.0"
      ]
     },
     "execution_count": 484,
     "metadata": {},
     "output_type": "execute_result"
    }
   ],
   "source": [
    "# %%time\n",
    "\n",
    "print('\\nMinimum Profit:')\n",
    "pulp.value(prob.objective)"
   ]
  },
  {
   "cell_type": "code",
   "execution_count": 485,
   "metadata": {},
   "outputs": [
    {
     "name": "stdout",
     "output_type": "stream",
     "text": [
      "Fd_1 = 0.0\n",
      "Fd_2 = 0.0\n",
      "Fd_3 = 0.0\n",
      "Fd_4 = 0.0\n",
      "Ms_(1,_1) = 2.0\n",
      "Ms_(1,_2) = 2.0\n",
      "Ms_(1,_3) = 2.0\n",
      "Ms_(2,_1) = 4.0\n",
      "Ms_(2,_2) = 4.0\n",
      "Ms_(2,_3) = 4.0\n",
      "Ms_(3,_1) = 2.0\n",
      "Ms_(3,_2) = 2.0\n",
      "Ms_(3,_3) = 2.0\n",
      "Ms_(4,_1) = 4.0\n",
      "Ms_(4,_2) = 4.0\n",
      "Ms_(4,_3) = 4.0\n",
      "Xdc_uv_(1,_1,_('N1',_'N2')) = 1.0\n",
      "Xdc_uv_(1,_2,_('N1',_'N2')) = 1.0\n",
      "Xdc_uv_(1,_3,_('N1',_'N2')) = 1.0\n",
      "Xdc_uv_(2,_1,_('N1',_'N2')) = 0.0\n",
      "Xdc_uv_(2,_1,_('N1',_'N4')) = 1.0\n",
      "Xdc_uv_(2,_1,_('N2',_'N3')) = 0.0\n",
      "Xdc_uv_(2,_1,_('N4',_'N3')) = 1.0\n",
      "Xdc_uv_(2,_2,_('N1',_'N2')) = 0.0\n",
      "Xdc_uv_(2,_2,_('N1',_'N4')) = 1.0\n",
      "Xdc_uv_(2,_2,_('N2',_'N3')) = 0.0\n",
      "Xdc_uv_(2,_2,_('N4',_'N3')) = 1.0\n",
      "Xdc_uv_(2,_3,_('N1',_'N2')) = 0.0\n",
      "Xdc_uv_(2,_3,_('N1',_'N4')) = 1.0\n",
      "Xdc_uv_(2,_3,_('N2',_'N3')) = 0.0\n",
      "Xdc_uv_(2,_3,_('N4',_'N3')) = 1.0\n",
      "Xdc_uv_(3,_1,_('N1',_'N4')) = 1.0\n",
      "Xdc_uv_(3,_2,_('N1',_'N4')) = 1.0\n",
      "Xdc_uv_(3,_3,_('N1',_'N4')) = 1.0\n",
      "Xdc_uv_(4,_1,_('N1',_'N4')) = 0.0\n",
      "Xdc_uv_(4,_1,_('N2',_'N1')) = 0.0\n",
      "Xdc_uv_(4,_1,_('N2',_'N3')) = 1.0\n",
      "Xdc_uv_(4,_1,_('N3',_'N4')) = 1.0\n",
      "Xdc_uv_(4,_2,_('N1',_'N4')) = 0.0\n",
      "Xdc_uv_(4,_2,_('N2',_'N1')) = 0.0\n",
      "Xdc_uv_(4,_2,_('N2',_'N3')) = 1.0\n",
      "Xdc_uv_(4,_2,_('N3',_'N4')) = 1.0\n",
      "Xdc_uv_(4,_3,_('N1',_'N4')) = 0.0\n",
      "Xdc_uv_(4,_3,_('N2',_'N1')) = 0.0\n",
      "Xdc_uv_(4,_3,_('N2',_'N3')) = 1.0\n",
      "Xdc_uv_(4,_3,_('N3',_'N4')) = 1.0\n",
      "t_(frozenset({('N1',_'N2'),_('N2',_'N3')}),_0) = 0.0\n",
      "t_(frozenset({('N1',_'N2')}),_0) = 1.0\n",
      "t_(frozenset({('N1',_'N4'),_('N2',_'N1')}),_0) = 0.0\n",
      "t_(frozenset({('N1',_'N4'),_('N4',_'N3')}),_1) = 1.0\n",
      "t_(frozenset({('N1',_'N4')}),_0) = 1.0\n",
      "t_(frozenset({('N3',_'N4'),_('N2',_'N3')}),_1) = 1.0\n"
     ]
    }
   ],
   "source": [
    "# Each of the variables is printed with it's resolved optimum value\n",
    "for v in prob.variables():\n",
    "    print(v.name, \"=\", v.varValue)"
   ]
  },
  {
   "cell_type": "markdown",
   "metadata": {},
   "source": [
    "Test with restrtiction (5)"
   ]
  },
  {
   "cell_type": "code",
   "execution_count": 441,
   "metadata": {},
   "outputs": [
    {
     "name": "stdout",
     "output_type": "stream",
     "text": [
      "ddemanda 1\n",
      "caminho 0\n",
      "frozenset({('N1', 'N2')})\n",
      "soma 1 1\n",
      "soma 2 3\n",
      "\n",
      "\n",
      "ddemanda 2\n",
      "caminho 0\n",
      "frozenset({('N1', 'N2'), ('N2', 'N3')})\n",
      "soma 1 0\n",
      "soma 2 6\n",
      "\n",
      "\n",
      "caminho 1\n",
      "frozenset({('N1', 'N4'), ('N4', 'N3')})\n",
      "soma 1 1\n",
      "soma 2 0\n",
      "\n",
      "\n",
      "ddemanda 3\n",
      "caminho 0\n",
      "frozenset({('N1', 'N4')})\n",
      "soma 1 0\n",
      "soma 2 0\n",
      "\n",
      "\n",
      "ddemanda 4\n",
      "caminho 0\n",
      "frozenset({('N1', 'N4'), ('N2', 'N1')})\n",
      "soma 1 0\n",
      "soma 2 0\n",
      "\n",
      "\n",
      "caminho 1\n",
      "frozenset({('N3', 'N4'), ('N2', 'N3')})\n",
      "soma 1 0\n",
      "soma 2 6\n",
      "\n",
      "\n"
     ]
    }
   ],
   "source": [
    "for d in demands:\n",
    "    print(\"ddemanda\", d)\n",
    "    for p in pi: \n",
    "        if (p == d):\n",
    "            for i,pp in enumerate(pi[p]):\n",
    "                print(\"caminho\",i)\n",
    "                for g in gamma:\n",
    "                    if(g == pp):\n",
    "                        print(pp)\n",
    "#                         for ii,link in enumerate(pp):\n",
    "#                             print(gamma[pp][ii],link,X_pi_vars_test[pp,i])\n",
    "#                             for c in range(1,4):\n",
    "#                                 print(c,Xd_c_uv_vars_test[d,c,link])\n",
    "                        print(\"soma 1\",sum([Xd_c_uv_vars_test[d,c,link] for c in range(1,4) for ii,link in enumerate(pp)]))\n",
    "                            \n",
    "                        print(\"soma 2\",sum([gamma[pp][ii] * X_pi_vars_test[pp,i] for ii,link in enumerate(pp)]))\n",
    "                        print(\"\\n\")\n",
    "                        \n",
    "    "
   ]
  },
  {
   "cell_type": "code",
   "execution_count": 386,
   "metadata": {},
   "outputs": [],
   "source": [
    "X_pi_vars_test = {(frozenset({('N1', 'N2')}), 0): 1,\n",
    " (frozenset({('N1', 'N2'), ('N2', 'N3')}),0): 1,\n",
    " (frozenset({('N1', 'N4'), ('N4', 'N3')}),1): 0,\n",
    " (frozenset({('N1', 'N4')}), 0): 0,\n",
    " (frozenset({('N1', 'N4'), ('N2', 'N1')}),0): 0,\n",
    " (frozenset({('N2', 'N3'), ('N3', 'N4')}),1): 1}"
   ]
  },
  {
   "cell_type": "code",
   "execution_count": 383,
   "metadata": {},
   "outputs": [
    {
     "data": {
      "text/plain": [
       "{(frozenset({('N1', 'N2')}), 0): 1,\n",
       " (frozenset({('N1', 'N2'), ('N2', 'N3')}), 0): 1,\n",
       " (frozenset({('N1', 'N4'), ('N4', 'N3')}), 1): 0,\n",
       " (frozenset({('N1', 'N4')}), 0): 0,\n",
       " (frozenset({('N1', 'N4'), ('N2', 'N1')}), 0): 1,\n",
       " (frozenset({('N2', 'N3'), ('N3', 'N4')}), 1): 1}"
      ]
     },
     "execution_count": 383,
     "metadata": {},
     "output_type": "execute_result"
    }
   ],
   "source": [
    "X_pi_vars_test"
   ]
  },
  {
   "cell_type": "code",
   "execution_count": 440,
   "metadata": {},
   "outputs": [],
   "source": [
    "Xd_c_uv_vars_test = {\n",
    " (1, 1, ('N1', 'N2')): 1,\n",
    " (1, 1, ('N1', 'N4')): 0,\n",
    " (1, 1, ('N2', 'N3')): 0,\n",
    " (1, 1, ('N3', 'N4')): 0,\n",
    " (1, 1, ('N2', 'N1')): 0,\n",
    " (1, 1, ('N3', 'N2')): 0,\n",
    " (1, 1, ('N4', 'N1')):0,\n",
    " (1, 1, ('N4', 'N3')): 0,\n",
    " (1, 2, ('N1', 'N2')): 0,\n",
    " (1, 2, ('N1', 'N4')): 0,\n",
    " (1, 2, ('N2', 'N3')): 0,\n",
    " (1, 2, ('N3', 'N4')): 0,\n",
    " (1, 2, ('N2', 'N1')): 0,\n",
    " (1, 2, ('N3', 'N2')): 0,\n",
    " (1, 2, ('N4', 'N1')): 0,\n",
    " (1, 2, ('N4', 'N3')): 0,\n",
    " (1, 3, ('N1', 'N2')): 0,\n",
    " (1, 3, ('N1', 'N4')): 0,\n",
    " (1, 3, ('N2', 'N3')): 0,\n",
    " (1, 3, ('N3', 'N4')): 0,\n",
    " (1, 3, ('N2', 'N1')): 0,\n",
    " (1, 3, ('N3', 'N2')): 0,\n",
    " (1, 3, ('N4', 'N1')): 0,\n",
    " (1, 3, ('N4', 'N3')): 0,\n",
    " (2, 1, ('N1', 'N2')): 0,\n",
    " (2, 1, ('N1', 'N4')): 1,\n",
    " (2, 1, ('N2', 'N3')): 0,\n",
    " (2, 1, ('N3', 'N4')): 0,\n",
    " (2, 1, ('N2', 'N1')): 0,\n",
    " (2, 1, ('N3', 'N2')): 0,\n",
    " (2, 1, ('N4', 'N1')): 0,\n",
    " (2, 1, ('N4', 'N3')): 0,\n",
    " (2, 2, ('N1', 'N2')): 0,\n",
    " (2, 2, ('N1', 'N4')): 0,\n",
    " (2, 2, ('N2', 'N3')): 0,\n",
    " (2, 2, ('N3', 'N4')): 0,\n",
    " (2, 2, ('N2', 'N1')): 0,\n",
    " (2, 2, ('N3', 'N2')): 0,\n",
    " (2, 2, ('N4', 'N1')): 0,\n",
    " (2, 2, ('N4', 'N3')): 0,\n",
    " (2, 3, ('N1', 'N2')): 0,\n",
    " (2, 3, ('N1', 'N4')): 0,\n",
    " (2, 3, ('N2', 'N3')): 0,\n",
    " (2, 3, ('N3', 'N4')): 0,\n",
    " (2, 3, ('N2', 'N1')): 0,\n",
    " (2, 3, ('N3', 'N2')): 0,\n",
    " (2, 3, ('N4', 'N1')): 0,\n",
    " (2, 3, ('N4', 'N3')): 0,\n",
    " (3, 1, ('N1', 'N2')): 0,\n",
    " (3, 1, ('N1', 'N4')): 0,\n",
    " (3, 1, ('N2', 'N3')): 0,\n",
    " (3, 1, ('N3', 'N4')): 0,\n",
    " (3, 1, ('N2', 'N1')): 0,\n",
    " (3, 1, ('N3', 'N2')): 0,\n",
    " (3, 1, ('N4', 'N1')): 0,\n",
    " (3, 1, ('N4', 'N3')): 0,\n",
    " (3, 2, ('N1', 'N2')): 0,\n",
    " (3, 2, ('N1', 'N4')): 0,\n",
    " (3, 2, ('N2', 'N3')): 0,\n",
    " (3, 2, ('N3', 'N4')): 0,\n",
    " (3, 2, ('N2', 'N1')): 0,\n",
    " (3, 2, ('N3', 'N2')):0,\n",
    " (3, 2, ('N4', 'N1')): 0,\n",
    " (3, 2, ('N4', 'N3')): 0,\n",
    " (3, 3, ('N1', 'N2')): 0,\n",
    " (3, 3, ('N1', 'N4')): 0,\n",
    " (3, 3, ('N2', 'N3')): 0,\n",
    " (3, 3, ('N3', 'N4')): 0,\n",
    " (3, 3, ('N2', 'N1')): 0,\n",
    " (3, 3, ('N3', 'N2')): 0,\n",
    " (3, 3, ('N4', 'N1')): 0,\n",
    " (3, 3, ('N4', 'N3')):0,\n",
    " (4, 1, ('N1', 'N2')): 0,\n",
    " (4, 1, ('N1', 'N4')): 0,\n",
    " (4, 1, ('N2', 'N3')): 0,\n",
    " (4, 1, ('N3', 'N4')): 0,\n",
    " (4, 1, ('N2', 'N1')): 0,\n",
    " (4, 1, ('N3', 'N2')): 0,\n",
    " (4, 1, ('N4', 'N1')): 0,\n",
    " (4, 1, ('N4', 'N3')): 0,\n",
    " (4, 2, ('N1', 'N2')): 0,\n",
    " (4, 2, ('N1', 'N4')): 0,\n",
    " (4, 2, ('N2', 'N3')): 0,\n",
    " (4, 2, ('N3', 'N4')): 0,\n",
    " (4, 2, ('N2', 'N1')): 0,\n",
    " (4, 2, ('N3', 'N2')): 0,\n",
    " (4, 2, ('N4', 'N1')): 0,\n",
    " (4, 2, ('N4', 'N3')): 0,\n",
    " (4, 3, ('N1', 'N2')): 0,\n",
    " (4, 3, ('N1', 'N4')): 0,\n",
    " (4, 3, ('N2', 'N3')): 0,\n",
    " (4, 3, ('N3', 'N4')): 0,\n",
    " (4, 3, ('N2', 'N1')): 0,\n",
    " (4, 3, ('N3', 'N2')): 0,\n",
    " (4, 3, ('N4', 'N1')): 0,\n",
    " (4, 3, ('N4', 'N3')): 0}"
   ]
  },
  {
   "cell_type": "code",
   "execution_count": null,
   "metadata": {},
   "outputs": [],
   "source": []
  }
 ],
 "metadata": {
  "kernelspec": {
   "display_name": "Python 3",
   "language": "python",
   "name": "python3"
  },
  "language_info": {
   "codemirror_mode": {
    "name": "ipython",
    "version": 3
   },
   "file_extension": ".py",
   "mimetype": "text/x-python",
   "name": "python",
   "nbconvert_exporter": "python",
   "pygments_lexer": "ipython3",
   "version": "3.7.3"
  }
 },
 "nbformat": 4,
 "nbformat_minor": 4
}
