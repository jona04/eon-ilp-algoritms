{
 "cells": [
  {
   "cell_type": "markdown",
   "metadata": {},
   "source": [
    "https://scipbook.readthedocs.io/en/latest/flp.html"
   ]
  },
  {
   "cell_type": "code",
   "execution_count": 2,
   "metadata": {},
   "outputs": [],
   "source": [
    "from pulp import *"
   ]
  },
  {
   "cell_type": "markdown",
   "metadata": {},
   "source": [
    "Variables"
   ]
  },
  {
   "cell_type": "code",
   "execution_count": 3,
   "metadata": {},
   "outputs": [],
   "source": [
    "FOODS = ['RICE', 'BEANS', 'CORN', 'BREAD']\n",
    "\n",
    "COSTUMER = [1,2,3,4,5]\n",
    "\n",
    "FACILITY = [1, 2, 3]\n",
    "\n",
    "actCost = {\n",
    "    1 : 1000,\n",
    "    2 : 1000,\n",
    "    3 : 1000\n",
    "}\n",
    "\n",
    "demand = {\n",
    "        1 : 80,\n",
    "        2 : 270,\n",
    "        3 : 250,\n",
    "        4 : 160,\n",
    "        5 : 180\n",
    "    }\n",
    "\n",
    "maxam = {\n",
    "            1 : 500,\n",
    "            2 : 500,\n",
    "            3 : 500}\n",
    "\n",
    "transp = {\n",
    "            1 : {1 : 4, 2 : 5, 3 : 6, 4 : 8, 5 : 10},\n",
    "            2 : {1 : 6, 2 : 4, 3 : 3, 4 : 5, 5 : 8},\n",
    "            3 : {1 : 9, 2 : 7, 3 : 4, 4 : 3, 5 : 4}\n",
    "         }\n",
    "\n"
   ]
  },
  {
   "cell_type": "markdown",
   "metadata": {},
   "source": [
    "Setting variables"
   ]
  },
  {
   "cell_type": "code",
   "execution_count": 4,
   "metadata": {},
   "outputs": [],
   "source": [
    "#problem variables\n",
    "prob = LpProblem(\"FacilityLocation\", LpMinimize)\n",
    "\n",
    "#decision variable\n",
    "use_vars = LpVariable.dicts(\"UseLocation\", FACILITY, 0, 1, LpBinary), \"Binary_ddecision_variables\"\n",
    "\n",
    "serv_vars = LpVariable.dicts(\"Servicce\", [(i,j) for i in COSTUMER\n",
    "                                                for j in FACILITY],\n",
    "                             0)\n",
    "\n",
    "foods_vars = LpVariable.dicts(\"Food\", FOODS, 0)\n"
   ]
  },
  {
   "cell_type": "markdown",
   "metadata": {},
   "source": [
    "Setting objecetive function and constraints"
   ]
  },
  {
   "cell_type": "code",
   "execution_count": 5,
   "metadata": {},
   "outputs": [],
   "source": [
    "\n",
    "prob += lpSum(actCost[j]*use_vars[0][j] for j in FACILITY) + lpSum(transp[j][i]*serv_vars[i,j] for j in FACILITY for i in COSTUMER)\n",
    "\n",
    "\n",
    "for i in COSTUMER:\n",
    "    prob += lpSum(serv_vars[(i,j)] for j in FACILITY) == demand[i]\n",
    "\n",
    "for j in FACILITY:\n",
    "    prob += lpSum(serv_vars[i,j] for i in COSTUMER) <= maxam[j] * use_vars[0][j]\n",
    "\n",
    "for i in COSTUMER:\n",
    "    for j in FACILITY:\n",
    "        prob += serv_vars[(i,j)] <= demand[i]*use_vars[0][j]\n",
    "\n"
   ]
  },
  {
   "cell_type": "code",
   "execution_count": 6,
   "metadata": {},
   "outputs": [
    {
     "data": {
      "text/plain": [
       "1"
      ]
     },
     "execution_count": 6,
     "metadata": {},
     "output_type": "execute_result"
    }
   ],
   "source": [
    "prob.solve()"
   ]
  },
  {
   "cell_type": "code",
   "execution_count": 7,
   "metadata": {},
   "outputs": [
    {
     "name": "stdout",
     "output_type": "stream",
     "text": [
      "\n",
      "Maximum Profit:\n"
     ]
    },
    {
     "data": {
      "text/plain": [
       "5610.0"
      ]
     },
     "execution_count": 7,
     "metadata": {},
     "output_type": "execute_result"
    }
   ],
   "source": [
    "print('\\nMaximum Profit:')\n",
    "pulp.value(prob.objective)"
   ]
  },
  {
   "cell_type": "code",
   "execution_count": null,
   "metadata": {},
   "outputs": [],
   "source": []
  },
  {
   "cell_type": "code",
   "execution_count": null,
   "metadata": {},
   "outputs": [],
   "source": []
  }
 ],
 "metadata": {
  "kernelspec": {
   "display_name": "Python 3",
   "language": "python",
   "name": "python3"
  },
  "language_info": {
   "codemirror_mode": {
    "name": "ipython",
    "version": 3
   },
   "file_extension": ".py",
   "mimetype": "text/x-python",
   "name": "python",
   "nbconvert_exporter": "python",
   "pygments_lexer": "ipython3",
   "version": "3.7.3"
  }
 },
 "nbformat": 4,
 "nbformat_minor": 4
}
