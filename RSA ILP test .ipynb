{
 "cells": [
  {
   "cell_type": "code",
   "execution_count": 1005,
   "metadata": {},
   "outputs": [],
   "source": [
    "from pulp import *"
   ]
  },
  {
   "cell_type": "code",
   "execution_count": 1057,
   "metadata": {},
   "outputs": [],
   "source": [
    "NODES = ['N1','N2','N3','N4','N5']\n",
    "\n",
    "LINKS = [('N1','N2'), ('N1','N4'), ('N2','N4'), ('N3','N2'), ('N3','N4')]\n",
    "\n",
    "F = [1,2,3,4,5]\n",
    "\n",
    "demands = {\n",
    "    1 : ('N1', 'N4', 3),\n",
    "    2 : ('N3', 'N4', 3),\n",
    "    3 : ('N1', 'N2', 4)\n",
    "}\n",
    "\n",
    "paths_demands = {\n",
    "    1 : [\n",
    "        frozenset({('N1','N4')})\n",
    "    ],\n",
    "    2 : [\n",
    "        frozenset({('N3','N4')})\n",
    "    ],\n",
    "    3 : [\n",
    "        frozenset({('N1','N2')})\n",
    "    ]\n",
    "}\n",
    "\n",
    "paths = [\n",
    "    frozenset({('N1','N4')}),\n",
    "    frozenset({('N3','N2'), ('N2','N4')}),\n",
    "    frozenset({('N3','N4')}),\n",
    "    frozenset({('N1','N2')})\n",
    "]\n",
    "\n",
    "pe = {\n",
    "    ('N1','N2') : [ frozenset({('N1','N2')}) ],\n",
    "    ('N2','N4') : [ frozenset({('N3','N2'), ('N2','N4')}) ],\n",
    "    ('N1','N4') : [ frozenset({('N1','N4')}) ],\n",
    "    ('N3','N2') : [ frozenset({('N3','N2'), ('N2','N4')}) ],\n",
    "    ('N3','N4') : [ frozenset({('N3','N4')}) ]\n",
    "}"
   ]
  },
  {
   "cell_type": "code",
   "execution_count": 1058,
   "metadata": {},
   "outputs": [],
   "source": [
    "\n",
    "#problemvariables\n",
    "prob = LpProblem(\"Problem\", LpMinimize)\n",
    "\n",
    "x1=LpVariable(\"F\",0,None,LpInteger)\n",
    "\n",
    "Xpf_vars = LpVariable.dicts(\"Xpf\", [(p,f) for p in paths for f in F], 0, 1, LpBinary)\n",
    "\n",
    "Ypf_vars = LpVariable.dicts(\"Ypf\", [(p,f) for p in paths for f in F], 0, 1, LpBinary)\n",
    "\n",
    "Xef_vars = LpVariable.dicts(\"Xef\", [(e,f) for e in LINKS for f in F], 0, 1, LpBinary)\n",
    "\n",
    "Xf_vars = LpVariable.dicts(\"Xf\", F, 0, 1, LpBinary)\n",
    "\n",
    "\n",
    "\n"
   ]
  },
  {
   "cell_type": "code",
   "execution_count": 1059,
   "metadata": {},
   "outputs": [],
   "source": [
    "\n",
    "prob += lpSum(x1)\n",
    "\n",
    "\n",
    "for d in demands:\n",
    "    for p in paths_demands:\n",
    "        if(d == p):\n",
    "            prob += lpSum(Xpf_vars[pd,f] for pd in paths_demands[d] for f in F) == 1\n",
    "\n",
    "\n",
    "for d in demands:\n",
    "    for p in paths_demands:\n",
    "        if(d == p):\n",
    "            for pd in paths_demands[d]:\n",
    "                for i in F:\n",
    "                    if(i <= len(F)-demands[d][2]+1):\n",
    "                        for j in range(i,len(F)+1): \n",
    "                            if(j <= i + demands[d][2] -1):\n",
    "                                prob += Xpf_vars[pd,i] - Ypf_vars[pd,j] <= 0\n",
    "\n",
    "                                \n",
    "for d in demands:\n",
    "    for p in paths_demands:\n",
    "        if(d == p):\n",
    "            for pd in paths_demands[d]:\n",
    "                for i in F:\n",
    "                    if( i >= len(F)-demands[d][2]+2):\n",
    "                        prob += Xpf_vars[pd,i] == 0\n",
    "                        \n",
    "\n",
    "\n",
    "for p in pe:\n",
    "    for e in LINKS:\n",
    "        if(p == e):\n",
    "            for f in F:\n",
    "                 prob += lpSum(Ypf_vars[pp,f] for pp in pe[p]) - Xef_vars[e,f] == 0\n",
    "\n",
    "\n",
    "    \n",
    "for f in F:\n",
    "    prob += lpSum(Xef_vars[e,f] for e in LINKS) - len(F) * Xf_vars[f] <= 0\n",
    "\n",
    "    \n",
    "prob += lpSum(Xf_vars[f] for f in F) - x1 == 0\n",
    "\n",
    "\n",
    "    "
   ]
  },
  {
   "cell_type": "code",
   "execution_count": 1060,
   "metadata": {},
   "outputs": [
    {
     "data": {
      "text/plain": [
       "1"
      ]
     },
     "execution_count": 1060,
     "metadata": {},
     "output_type": "execute_result"
    }
   ],
   "source": [
    "prob.solve()"
   ]
  },
  {
   "cell_type": "code",
   "execution_count": 1061,
   "metadata": {},
   "outputs": [
    {
     "name": "stdout",
     "output_type": "stream",
     "text": [
      "\n",
      "Minimum Profit:\n"
     ]
    },
    {
     "data": {
      "text/plain": [
       "4.0"
      ]
     },
     "execution_count": 1061,
     "metadata": {},
     "output_type": "execute_result"
    }
   ],
   "source": [
    "print('\\nMinimum Profit:')\n",
    "pulp.value(prob.objective)"
   ]
  },
  {
   "cell_type": "code",
   "execution_count": 1062,
   "metadata": {},
   "outputs": [
    {
     "name": "stdout",
     "output_type": "stream",
     "text": [
      "F = 4.0\n",
      "Xef_(('N1',_'N2'),_1) = 1.0\n",
      "Xef_(('N1',_'N2'),_2) = 1.0\n",
      "Xef_(('N1',_'N2'),_3) = 1.0\n",
      "Xef_(('N1',_'N2'),_4) = 1.0\n",
      "Xef_(('N1',_'N2'),_5) = 0.0\n",
      "Xef_(('N1',_'N4'),_1) = 0.0\n",
      "Xef_(('N1',_'N4'),_2) = 1.0\n",
      "Xef_(('N1',_'N4'),_3) = 1.0\n",
      "Xef_(('N1',_'N4'),_4) = 1.0\n",
      "Xef_(('N1',_'N4'),_5) = 0.0\n",
      "Xef_(('N2',_'N4'),_1) = 0.0\n",
      "Xef_(('N2',_'N4'),_2) = 0.0\n",
      "Xef_(('N2',_'N4'),_3) = 0.0\n",
      "Xef_(('N2',_'N4'),_4) = 0.0\n",
      "Xef_(('N2',_'N4'),_5) = 0.0\n",
      "Xef_(('N3',_'N2'),_1) = 0.0\n",
      "Xef_(('N3',_'N2'),_2) = 0.0\n",
      "Xef_(('N3',_'N2'),_3) = 0.0\n",
      "Xef_(('N3',_'N2'),_4) = 0.0\n",
      "Xef_(('N3',_'N2'),_5) = 0.0\n",
      "Xef_(('N3',_'N4'),_1) = 0.0\n",
      "Xef_(('N3',_'N4'),_2) = 1.0\n",
      "Xef_(('N3',_'N4'),_3) = 1.0\n",
      "Xef_(('N3',_'N4'),_4) = 1.0\n",
      "Xef_(('N3',_'N4'),_5) = 0.0\n",
      "Xf_1 = 1.0\n",
      "Xf_2 = 1.0\n",
      "Xf_3 = 1.0\n",
      "Xf_4 = 1.0\n",
      "Xf_5 = 0.0\n",
      "Xpf_(frozenset({('N1',_'N2')}),_1) = 1.0\n",
      "Xpf_(frozenset({('N1',_'N2')}),_2) = 0.0\n",
      "Xpf_(frozenset({('N1',_'N2')}),_3) = 0.0\n",
      "Xpf_(frozenset({('N1',_'N2')}),_4) = 0.0\n",
      "Xpf_(frozenset({('N1',_'N2')}),_5) = 0.0\n",
      "Xpf_(frozenset({('N1',_'N4')}),_1) = 0.0\n",
      "Xpf_(frozenset({('N1',_'N4')}),_2) = 1.0\n",
      "Xpf_(frozenset({('N1',_'N4')}),_3) = 0.0\n",
      "Xpf_(frozenset({('N1',_'N4')}),_4) = 0.0\n",
      "Xpf_(frozenset({('N1',_'N4')}),_5) = 0.0\n",
      "Xpf_(frozenset({('N3',_'N4')}),_1) = 0.0\n",
      "Xpf_(frozenset({('N3',_'N4')}),_2) = 1.0\n",
      "Xpf_(frozenset({('N3',_'N4')}),_3) = 0.0\n",
      "Xpf_(frozenset({('N3',_'N4')}),_4) = 0.0\n",
      "Xpf_(frozenset({('N3',_'N4')}),_5) = 0.0\n",
      "Ypf_(frozenset({('N1',_'N2')}),_1) = 1.0\n",
      "Ypf_(frozenset({('N1',_'N2')}),_2) = 1.0\n",
      "Ypf_(frozenset({('N1',_'N2')}),_3) = 1.0\n",
      "Ypf_(frozenset({('N1',_'N2')}),_4) = 1.0\n",
      "Ypf_(frozenset({('N1',_'N2')}),_5) = 0.0\n",
      "Ypf_(frozenset({('N1',_'N4')}),_1) = 0.0\n",
      "Ypf_(frozenset({('N1',_'N4')}),_2) = 1.0\n",
      "Ypf_(frozenset({('N1',_'N4')}),_3) = 1.0\n",
      "Ypf_(frozenset({('N1',_'N4')}),_4) = 1.0\n",
      "Ypf_(frozenset({('N1',_'N4')}),_5) = 0.0\n",
      "Ypf_(frozenset({('N2',_'N4'),_('N3',_'N2')}),_1) = 0.0\n",
      "Ypf_(frozenset({('N2',_'N4'),_('N3',_'N2')}),_2) = 0.0\n",
      "Ypf_(frozenset({('N2',_'N4'),_('N3',_'N2')}),_3) = 0.0\n",
      "Ypf_(frozenset({('N2',_'N4'),_('N3',_'N2')}),_4) = 0.0\n",
      "Ypf_(frozenset({('N2',_'N4'),_('N3',_'N2')}),_5) = 0.0\n",
      "Ypf_(frozenset({('N3',_'N4')}),_1) = 0.0\n",
      "Ypf_(frozenset({('N3',_'N4')}),_2) = 1.0\n",
      "Ypf_(frozenset({('N3',_'N4')}),_3) = 1.0\n",
      "Ypf_(frozenset({('N3',_'N4')}),_4) = 1.0\n",
      "Ypf_(frozenset({('N3',_'N4')}),_5) = 0.0\n"
     ]
    }
   ],
   "source": [
    "# Each of the variables is printed with it's resolved optimum value\n",
    "for v in prob.variables():\n",
    "    print(v.name, \"=\", v.varValue)"
   ]
  },
  {
   "cell_type": "code",
   "execution_count": 856,
   "metadata": {},
   "outputs": [
    {
     "name": "stdout",
     "output_type": "stream",
     "text": [
      "[0, 0, 1, 0, 0, 1, 0, 0, 0, 0]\n",
      "[0, 0, 1, 0, 0, 1, 0, 0, 0, 0]\n",
      "[0, 1, 0, 0, 0, 1, 0, 0, 0, 0]\n"
     ]
    }
   ],
   "source": [
    "for d in demands:\n",
    "    for p in paths_demands:\n",
    "        if(d == p):\n",
    "            print(list(Xpf_vars_test[pd,f] for pd in paths_demands[d] for f in F))\n",
    "\n"
   ]
  },
  {
   "cell_type": "code",
   "execution_count": 857,
   "metadata": {},
   "outputs": [
    {
     "data": {
      "text/plain": [
       "{(frozenset({('N1', 'N2'), ('N2', 'N4')}), 1): 0,\n",
       " (frozenset({('N1', 'N2'), ('N2', 'N4')}), 2): 0,\n",
       " (frozenset({('N1', 'N2'), ('N2', 'N4')}), 3): 1,\n",
       " (frozenset({('N1', 'N2'), ('N2', 'N4')}), 4): 0,\n",
       " (frozenset({('N1', 'N2'), ('N2', 'N4')}), 5): 0,\n",
       " (frozenset({('N1', 'N4')}), 1): 1,\n",
       " (frozenset({('N1', 'N4')}), 2): 0,\n",
       " (frozenset({('N1', 'N4')}), 3): 0,\n",
       " (frozenset({('N1', 'N4')}), 4): 0,\n",
       " (frozenset({('N1', 'N4')}), 5): 0,\n",
       " (frozenset({('N2', 'N4'), ('N3', 'N2')}), 1): 0,\n",
       " (frozenset({('N2', 'N4'), ('N3', 'N2')}), 2): 1,\n",
       " (frozenset({('N2', 'N4'), ('N3', 'N2')}), 3): 0,\n",
       " (frozenset({('N2', 'N4'), ('N3', 'N2')}), 4): 0,\n",
       " (frozenset({('N2', 'N4'), ('N3', 'N2')}), 5): 0,\n",
       " (frozenset({('N3', 'N4')}), 1): 1,\n",
       " (frozenset({('N3', 'N4')}), 2): 0,\n",
       " (frozenset({('N3', 'N4')}), 3): 0,\n",
       " (frozenset({('N3', 'N4')}), 4): 0,\n",
       " (frozenset({('N3', 'N4')}), 5): 0}"
      ]
     },
     "execution_count": 857,
     "metadata": {},
     "output_type": "execute_result"
    }
   ],
   "source": [
    "Xpf_vars_test"
   ]
  },
  {
   "cell_type": "code",
   "execution_count": 488,
   "metadata": {},
   "outputs": [
    {
     "data": {
      "text/plain": [
       "{(('N1', 'N2'), 1): 0,\n",
       " (('N1', 'N2'), 2): 0,\n",
       " (('N1', 'N2'), 3): 0,\n",
       " (('N1', 'N2'), 4): 0,\n",
       " (('N1', 'N2'), 5): 0,\n",
       " (('N1', 'N4'), 1): 0,\n",
       " (('N1', 'N4'), 2): 0,\n",
       " (('N1', 'N4'), 3): 0,\n",
       " (('N1', 'N4'), 4): 0,\n",
       " (('N1', 'N4'), 5): 0,\n",
       " (('N2', 'N4'), 1): 0,\n",
       " (('N2', 'N4'), 2): 0,\n",
       " (('N2', 'N4'), 3): 0,\n",
       " (('N2', 'N4'), 4): 0,\n",
       " (('N2', 'N4'), 5): 0,\n",
       " (('N3', 'N2'), 1): 0,\n",
       " (('N3', 'N2'), 2): 0,\n",
       " (('N3', 'N2'), 3): 0,\n",
       " (('N3', 'N2'), 4): 0,\n",
       " (('N3', 'N2'), 5): 0,\n",
       " (('N3', 'N4'), 1): 0,\n",
       " (('N3', 'N4'), 2): 0,\n",
       " (('N3', 'N4'), 3): 0,\n",
       " (('N3', 'N4'), 4): 0,\n",
       " (('N3', 'N4'), 5): 0}"
      ]
     },
     "execution_count": 488,
     "metadata": {},
     "output_type": "execute_result"
    }
   ],
   "source": [
    "Xef_vars_test"
   ]
  },
  {
   "cell_type": "code",
   "execution_count": 925,
   "metadata": {},
   "outputs": [],
   "source": [
    "Xpf_vars_test = {\n",
    "    (frozenset({('N1', 'N2'), ('N2', 'N4')}),\n",
    "  1): 1,\n",
    " (frozenset({('N1', 'N2'), ('N2', 'N4')}),\n",
    "  2):0,\n",
    " (frozenset({('N1', 'N2'), ('N2', 'N4')}),\n",
    "  3): 0,\n",
    " (frozenset({('N1', 'N2'), ('N2', 'N4')}),\n",
    "  4): 0,\n",
    " (frozenset({('N1', 'N2'), ('N2', 'N4')}),\n",
    "  5): 0,\n",
    " (frozenset({('N1', 'N4')}), 1): 1,\n",
    " (frozenset({('N1', 'N4')}), 2): 0,\n",
    " (frozenset({('N1', 'N4')}), 3): 0,\n",
    " (frozenset({('N1', 'N4')}), 4): 0,\n",
    " (frozenset({('N1', 'N4')}), 5): 0,\n",
    " (frozenset({('N2', 'N4'), ('N3', 'N2')}),\n",
    "  1): 0,\n",
    " (frozenset({('N2', 'N4'), ('N3', 'N2')}),\n",
    "  2): 1,\n",
    " (frozenset({('N2', 'N4'), ('N3', 'N2')}),\n",
    "  3): 0,\n",
    " (frozenset({('N2', 'N4'), ('N3', 'N2')}),\n",
    "  4): 0,\n",
    " (frozenset({('N2', 'N4'), ('N3', 'N2')}),\n",
    "  5): 0,\n",
    " (frozenset({('N3', 'N4')}), 1): 1,\n",
    " (frozenset({('N3', 'N4')}), 2): 0,\n",
    " (frozenset({('N3', 'N4')}), 3): 0,\n",
    " (frozenset({('N3', 'N4')}), 4): 0,\n",
    " (frozenset({('N3', 'N4')}), 5): 0\n",
    "}"
   ]
  },
  {
   "cell_type": "code",
   "execution_count": 974,
   "metadata": {},
   "outputs": [],
   "source": [
    "Ypf_vars_test = {\n",
    "    (frozenset({('N1', 'N2'), ('N2', 'N4')}),\n",
    "  1): 1,\n",
    " (frozenset({('N1', 'N2'), ('N2', 'N4')}),\n",
    "  2):0,\n",
    " (frozenset({('N1', 'N2'), ('N2', 'N4')}),\n",
    "  3): 0,\n",
    " (frozenset({('N1', 'N2'), ('N2', 'N4')}),\n",
    "  4): 0,\n",
    " (frozenset({('N1', 'N2'), ('N2', 'N4')}),\n",
    "  5): 0,\n",
    " (frozenset({('N1', 'N4')}), 1): 0,\n",
    " (frozenset({('N1', 'N4')}), 2): 0,\n",
    " (frozenset({('N1', 'N4')}), 3): 0,\n",
    " (frozenset({('N1', 'N4')}), 4): 0,\n",
    " (frozenset({('N1', 'N4')}), 5): 0,\n",
    " (frozenset({('N2', 'N4'), ('N3', 'N2')}),\n",
    "  1): 1,\n",
    " (frozenset({('N2', 'N4'), ('N3', 'N2')}),\n",
    "  2): 1,\n",
    " (frozenset({('N2', 'N4'), ('N3', 'N2')}),\n",
    "  3): 0,\n",
    " (frozenset({('N2', 'N4'), ('N3', 'N2')}),\n",
    "  4): 0,\n",
    " (frozenset({('N2', 'N4'), ('N3', 'N2')}),\n",
    "  5): 0,\n",
    " (frozenset({('N3', 'N4')}), 1): 0,\n",
    " (frozenset({('N3', 'N4')}), 2): 0,\n",
    " (frozenset({('N3', 'N4')}), 3): 1,\n",
    " (frozenset({('N3', 'N4')}), 4): 0,\n",
    " (frozenset({('N3', 'N4')}), 5): 0\n",
    "}"
   ]
  },
  {
   "cell_type": "code",
   "execution_count": 927,
   "metadata": {},
   "outputs": [],
   "source": [
    "Xef_vars_test = {\n",
    "    (('N1', 'N2'), 1): 0,\n",
    "     (('N1', 'N2'), 2): 0,\n",
    "     (('N1', 'N2'), 3): 0,\n",
    "     (('N1', 'N2'), 4): 0,\n",
    "     (('N1', 'N2'), 5): 0,\n",
    "     (('N1', 'N4'), 1): 0,\n",
    "     (('N1', 'N4'), 2): 0,\n",
    "     (('N1', 'N4'), 3): 0,\n",
    "     (('N1', 'N4'), 4): 0,\n",
    "     (('N1', 'N4'), 5): 0,\n",
    "     (('N2', 'N4'), 1): 0,\n",
    "     (('N2', 'N4'), 2): 0,\n",
    "     (('N2', 'N4'), 3): 0,\n",
    "     (('N2', 'N4'), 4): 0,\n",
    "     (('N2', 'N4'), 5): 0,\n",
    "     (('N3', 'N2'), 1): 0,\n",
    "     (('N3', 'N2'), 2): 0,\n",
    "     (('N3', 'N2'), 3): 0,\n",
    "     (('N3', 'N2'), 4): 0,\n",
    "     (('N3', 'N2'), 5): 0,\n",
    "     (('N3', 'N4'), 1): 0,\n",
    "     (('N3', 'N4'), 2): 0,\n",
    "     (('N3', 'N4'), 3): 0,\n",
    "     (('N3', 'N4'), 4): 0,\n",
    "     (('N3', 'N4'), 5): 0\n",
    "}"
   ]
  },
  {
   "cell_type": "code",
   "execution_count": 979,
   "metadata": {},
   "outputs": [
    {
     "name": "stdout",
     "output_type": "stream",
     "text": [
      "[1] 0\n",
      "[0] 0\n",
      "[0] 0\n",
      "[0] 0\n",
      "[0] 0\n",
      "[1, 1] 0\n",
      "[0, 1] 0\n",
      "[0, 0] 0\n",
      "[0, 0] 0\n",
      "[0, 0] 0\n",
      "[0] 0\n",
      "[0] 0\n",
      "[0] 0\n",
      "[0] 0\n",
      "[0] 0\n",
      "[1] 0\n",
      "[1] 0\n",
      "[0] 0\n",
      "[0] 0\n",
      "[0] 0\n",
      "[0] 0\n",
      "[0] 0\n",
      "[1] 0\n",
      "[0] 0\n",
      "[0] 0\n"
     ]
    }
   ],
   "source": [
    "for p in pe:\n",
    "    for e in LINKS:\n",
    "        if(p == e):\n",
    "            for f in F:\n",
    "#             print(list(Ypf_vars_test[pp,f] for pp in pe[p] for f in F))\n",
    "#                 print(pe[p])\n",
    "                print(list(Ypf_vars_test[pp,f] for pp in pe[p]), Xef_vars_test[e,f])\n",
    "\n"
   ]
  },
  {
   "cell_type": "code",
   "execution_count": 957,
   "metadata": {},
   "outputs": [
    {
     "data": {
      "text/plain": [
       "{(frozenset({('N1', 'N2'), ('N2', 'N4')}), 1): 1,\n",
       " (frozenset({('N1', 'N2'), ('N2', 'N4')}), 2): 0,\n",
       " (frozenset({('N1', 'N2'), ('N2', 'N4')}), 3): 0,\n",
       " (frozenset({('N1', 'N2'), ('N2', 'N4')}), 4): 0,\n",
       " (frozenset({('N1', 'N2'), ('N2', 'N4')}), 5): 0,\n",
       " (frozenset({('N1', 'N4')}), 1): 1,\n",
       " (frozenset({('N1', 'N4')}), 2): 0,\n",
       " (frozenset({('N1', 'N4')}), 3): 0,\n",
       " (frozenset({('N1', 'N4')}), 4): 0,\n",
       " (frozenset({('N1', 'N4')}), 5): 0,\n",
       " (frozenset({('N2', 'N4'), ('N3', 'N2')}), 1): 0,\n",
       " (frozenset({('N2', 'N4'), ('N3', 'N2')}), 2): 1,\n",
       " (frozenset({('N2', 'N4'), ('N3', 'N2')}), 3): 0,\n",
       " (frozenset({('N2', 'N4'), ('N3', 'N2')}), 4): 0,\n",
       " (frozenset({('N2', 'N4'), ('N3', 'N2')}), 5): 0,\n",
       " (frozenset({('N3', 'N4')}), 1): 1,\n",
       " (frozenset({('N3', 'N4')}), 2): 0,\n",
       " (frozenset({('N3', 'N4')}), 3): 0,\n",
       " (frozenset({('N3', 'N4')}), 4): 0,\n",
       " (frozenset({('N3', 'N4')}), 5): 0}"
      ]
     },
     "execution_count": 957,
     "metadata": {},
     "output_type": "execute_result"
    }
   ],
   "source": [
    "Xpf_vars_test"
   ]
  },
  {
   "cell_type": "code",
   "execution_count": 973,
   "metadata": {},
   "outputs": [
    {
     "data": {
      "text/plain": [
       "{(frozenset({('N1', 'N2'), ('N2', 'N4')}), 1): 0,\n",
       " (frozenset({('N1', 'N2'), ('N2', 'N4')}), 2): 0,\n",
       " (frozenset({('N1', 'N2'), ('N2', 'N4')}), 3): 0,\n",
       " (frozenset({('N1', 'N2'), ('N2', 'N4')}), 4): 0,\n",
       " (frozenset({('N1', 'N2'), ('N2', 'N4')}), 5): 0,\n",
       " (frozenset({('N1', 'N4')}), 1): 0,\n",
       " (frozenset({('N1', 'N4')}), 2): 0,\n",
       " (frozenset({('N1', 'N4')}), 3): 0,\n",
       " (frozenset({('N1', 'N4')}), 4): 0,\n",
       " (frozenset({('N1', 'N4')}), 5): 0,\n",
       " (frozenset({('N2', 'N4'), ('N3', 'N2')}), 1): 0,\n",
       " (frozenset({('N2', 'N4'), ('N3', 'N2')}), 2): 0,\n",
       " (frozenset({('N2', 'N4'), ('N3', 'N2')}), 3): 0,\n",
       " (frozenset({('N2', 'N4'), ('N3', 'N2')}), 4): 0,\n",
       " (frozenset({('N2', 'N4'), ('N3', 'N2')}), 5): 0,\n",
       " (frozenset({('N3', 'N4')}), 1): 0,\n",
       " (frozenset({('N3', 'N4')}), 2): 0,\n",
       " (frozenset({('N3', 'N4')}), 3): 0,\n",
       " (frozenset({('N3', 'N4')}), 4): 0,\n",
       " (frozenset({('N3', 'N4')}), 5): 0}"
      ]
     },
     "execution_count": 973,
     "metadata": {},
     "output_type": "execute_result"
    }
   ],
   "source": [
    "Ypf_vars_test"
   ]
  },
  {
   "cell_type": "code",
   "execution_count": 955,
   "metadata": {},
   "outputs": [
    {
     "name": "stdout",
     "output_type": "stream",
     "text": [
      "3\n",
      "4\n",
      "5\n"
     ]
    }
   ],
   "source": [
    "for j in range(3,len(F)+1):\n",
    "    print(j)"
   ]
  },
  {
   "cell_type": "code",
   "execution_count": null,
   "metadata": {},
   "outputs": [],
   "source": []
  }
 ],
 "metadata": {
  "kernelspec": {
   "display_name": "Python 3",
   "language": "python",
   "name": "python3"
  },
  "language_info": {
   "codemirror_mode": {
    "name": "ipython",
    "version": 3
   },
   "file_extension": ".py",
   "mimetype": "text/x-python",
   "name": "python",
   "nbconvert_exporter": "python",
   "pygments_lexer": "ipython3",
   "version": "3.7.3"
  }
 },
 "nbformat": 4,
 "nbformat_minor": 4
}
